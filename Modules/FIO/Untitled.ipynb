{
 "cells": [
  {
   "cell_type": "code",
   "execution_count": 1,
   "id": "0301aa0a-f30c-4b81-9597-751186329ff1",
   "metadata": {},
   "outputs": [],
   "source": [
    "import json\n",
    "import requests"
   ]
  },
  {
   "cell_type": "code",
   "execution_count": 2,
   "id": "9ab8ed7a-3f4d-457e-b14f-8a60d18fcdef",
   "metadata": {},
   "outputs": [],
   "source": [
    "def FIO_APIKEY():\n",
    "    with open('auth.json', 'r') as file:\n",
    "        apiauth = json.load(file)\n",
    "        \n",
    "    FIOAPIKEY = requests.post('https://rest.fnar.net/auth/login',json=apiauth)\n",
    "    \n",
    "    if str(FIOAPIKEY) != '<Response [200]>':\n",
    "        return \"auth error\"\n",
    "    else:\n",
    "        FIOAPIKEY = json.loads(FIOAPIKEY.content)\n",
    "        return FIOAPIKEY['AuthToken']"
   ]
  },
  {
   "cell_type": "code",
   "execution_count": 3,
   "id": "e4f02477-5621-4ac7-9c6b-25a9fa65d286",
   "metadata": {},
   "outputs": [
    {
     "name": "stdout",
     "output_type": "stream",
     "text": [
      "85f3a73af60b401a8bbfa95c604842cc\n"
     ]
    }
   ],
   "source": [
    "print(FIO_APIKEY())"
   ]
  },
  {
   "cell_type": "code",
   "execution_count": null,
   "id": "7915aaed-b14b-4b13-82ea-a74c00fd224c",
   "metadata": {},
   "outputs": [],
   "source": []
  }
 ],
 "metadata": {
  "kernelspec": {
   "display_name": "Python 3 (ipykernel)",
   "language": "python",
   "name": "python3"
  },
  "language_info": {
   "codemirror_mode": {
    "name": "ipython",
    "version": 3
   },
   "file_extension": ".py",
   "mimetype": "text/x-python",
   "name": "python",
   "nbconvert_exporter": "python",
   "pygments_lexer": "ipython3",
   "version": "3.9.10"
  }
 },
 "nbformat": 4,
 "nbformat_minor": 5
}
